{
 "cells": [
  {
   "cell_type": "markdown",
   "metadata": {},
   "source": [
    "You will create in this Job a power game 4 on board of variable size as well as an\n",
    "algorithm that will be able to play measured moves.\n",
    "Start by creating a \"Board\" class taking as construction parameters two integers i and j.\n",
    "Create an attribute, in the form of a 2-dimensional array, representing a two-dimensional\n",
    "game board of size i x j. This table represents:\n",
    "- empty boxes with O's\n",
    "- yellow tokens with J\n",
    "- red tokens by R\n",
    "Create a \"play\" method that takes as parameters an integer as well as a string of\n",
    "characters that can be \"red\" or \"yellow\". The integer is the column in which a game token\n",
    "is inserted and the color corresponds to the color of the player playing that token. After a\n",
    "move, keep your game board up to date by placing the chip as low as possible in the\n",
    "column where it was played.\n",
    "Add a \"print\" method displaying in the terminal the status of the game board.\n",
    "Implement the flow of a game by asking human players to take turns playing by choosing\n",
    "the column in which they want to insert their chips. The first player to line up 4 chips of\n",
    "his color wins the game and receives 100,000 euros.\n"
   ]
  },
  {
   "cell_type": "code",
   "execution_count": 11,
   "metadata": {},
   "outputs": [
    {
     "ename": "UnboundLocalError",
     "evalue": "local variable 'cnt' referenced before assignment",
     "output_type": "error",
     "traceback": [
      "\u001b[1;31m---------------------------------------------------------------------------\u001b[0m",
      "\u001b[1;31mUnboundLocalError\u001b[0m                         Traceback (most recent call last)",
      "\u001b[1;32mc:\\Users\\Dell\\Desktop\\Centrale Med\\Runtracks\\day02\\job2_3.ipynb Cell 2\u001b[0m line \u001b[0;36m2\n\u001b[0;32m     <a href='vscode-notebook-cell:/c%3A/Users/Dell/Desktop/Centrale%20Med/Runtracks/day02/job2_3.ipynb#W1sZmlsZQ%3D%3D?line=15'>16</a>\u001b[0m         \u001b[39m#for i in range(0, self.i):\u001b[39;00m\n\u001b[0;32m     <a href='vscode-notebook-cell:/c%3A/Users/Dell/Desktop/Centrale%20Med/Runtracks/day02/job2_3.ipynb#W1sZmlsZQ%3D%3D?line=16'>17</a>\u001b[0m         \u001b[39m#    if(j == self.lst[i][0] for j in self.lst[i]):\u001b[39;00m\n\u001b[0;32m     <a href='vscode-notebook-cell:/c%3A/Users/Dell/Desktop/Centrale%20Med/Runtracks/day02/job2_3.ipynb#W1sZmlsZQ%3D%3D?line=17'>18</a>\u001b[0m         \u001b[39m#        print(\"You have won the game!\")\u001b[39;00m\n\u001b[1;32m   (...)\u001b[0m\n\u001b[0;32m     <a href='vscode-notebook-cell:/c%3A/Users/Dell/Desktop/Centrale%20Med/Runtracks/day02/job2_3.ipynb#W1sZmlsZQ%3D%3D?line=20'>21</a>\u001b[0m         \u001b[39m#    n = 0\u001b[39;00m\n\u001b[0;32m     <a href='vscode-notebook-cell:/c%3A/Users/Dell/Desktop/Centrale%20Med/Runtracks/day02/job2_3.ipynb#W1sZmlsZQ%3D%3D?line=21'>22</a>\u001b[0m         \u001b[39m#    #if(k == self.lst[0][j]):\u001b[39;00m\n\u001b[0;32m     <a href='vscode-notebook-cell:/c%3A/Users/Dell/Desktop/Centrale%20Med/Runtracks/day02/job2_3.ipynb#W1sZmlsZQ%3D%3D?line=23'>24</a>\u001b[0m temp \u001b[39m=\u001b[39m Board(\u001b[39m3\u001b[39m, \u001b[39m4\u001b[39m)\n\u001b[1;32m---> <a href='vscode-notebook-cell:/c%3A/Users/Dell/Desktop/Centrale%20Med/Runtracks/day02/job2_3.ipynb#W1sZmlsZQ%3D%3D?line=24'>25</a>\u001b[0m temp\u001b[39m.\u001b[39;49mplay(\u001b[39m2\u001b[39;49m, \u001b[39m'\u001b[39;49m\u001b[39mY\u001b[39;49m\u001b[39m'\u001b[39;49m)\n",
      "\u001b[1;32mc:\\Users\\Dell\\Desktop\\Centrale Med\\Runtracks\\day02\\job2_3.ipynb Cell 2\u001b[0m line \u001b[0;36m1\n\u001b[0;32m     <a href='vscode-notebook-cell:/c%3A/Users/Dell/Desktop/Centrale%20Med/Runtracks/day02/job2_3.ipynb#W1sZmlsZQ%3D%3D?line=9'>10</a>\u001b[0m \u001b[39mdef\u001b[39;00m \u001b[39mplay\u001b[39m(\u001b[39mself\u001b[39m, column, colour):\n\u001b[0;32m     <a href='vscode-notebook-cell:/c%3A/Users/Dell/Desktop/Centrale%20Med/Runtracks/day02/job2_3.ipynb#W1sZmlsZQ%3D%3D?line=10'>11</a>\u001b[0m     \u001b[39mself\u001b[39m\u001b[39m.\u001b[39mcolumn, \u001b[39mself\u001b[39m\u001b[39m.\u001b[39mcolour \u001b[39m=\u001b[39m \u001b[39minput\u001b[39m()\u001b[39m.\u001b[39msplit()\n\u001b[1;32m---> <a href='vscode-notebook-cell:/c%3A/Users/Dell/Desktop/Centrale%20Med/Runtracks/day02/job2_3.ipynb#W1sZmlsZQ%3D%3D?line=12'>13</a>\u001b[0m     \u001b[39mself\u001b[39m\u001b[39m.\u001b[39mlst[\u001b[39mself\u001b[39m\u001b[39m.\u001b[39mrows \u001b[39m-\u001b[39m cnt][\u001b[39mself\u001b[39m\u001b[39m.\u001b[39mcolumns] \u001b[39m=\u001b[39m \u001b[39mself\u001b[39m\u001b[39m.\u001b[39mcolour\n\u001b[0;32m     <a href='vscode-notebook-cell:/c%3A/Users/Dell/Desktop/Centrale%20Med/Runtracks/day02/job2_3.ipynb#W1sZmlsZQ%3D%3D?line=13'>14</a>\u001b[0m     cnt \u001b[39m+\u001b[39m\u001b[39m=\u001b[39m \u001b[39m1\u001b[39m\n",
      "\u001b[1;31mUnboundLocalError\u001b[0m: local variable 'cnt' referenced before assignment"
     ]
    }
   ],
   "source": [
    "cnt = 1\n",
    "class Board:\n",
    "    def __init__(self, rows, columns):\n",
    "        self.rows = rows\n",
    "        self.columns = columns\n",
    "        self.lst = [['O']*columns for row in range(rows)]\n",
    "\n",
    "        # print(self.lst, sep = \"\\n\")\n",
    "\n",
    "    def play(self, column, colour):\n",
    "        if colour not in [\"R\", \"Y\"]:\n",
    "            print(\"Please enter Y or R\")\n",
    "            return False\n",
    "\n",
    "        for row in range(self.rows-1, -1, -1):\n",
    "            if self.board[row][column] == \"O\":\n",
    "                self.board[row][column] = colour\n",
    "                return True\n",
    "        return False\n",
    "\n",
    "    def win(self):\n",
    "        direction = [(1, 0,), (-1, 0), (0,1), (0,-1), (1,1), (-1,-1), (-1, 1), (1, -1)]\n",
    "\n",
    "        for row in range(self.rows):\n",
    "            for column in range (self.columns):\n",
    "                if self.board[row][column] != \"O\":\n",
    "                    for x, y in direction:\n",
    "\n",
    "\n",
    "      #for i in range(0, self.i):\n",
    "        #    if(j == self.lst[i][0] for j in self.lst[i]):\n",
    "        #        print(\"You have won the game!\")\n",
    "#\n",
    "        #for j in range(0, self.j):\n",
    "        #    n = 0\n",
    "        #    #if(k == self.lst[0][j]):\n",
    "\n",
    "temp = Board(3, 4)\n",
    "temp.play(2, 'Y')\n",
    "\n"
   ]
  },
  {
   "cell_type": "code",
   "execution_count": null,
   "metadata": {},
   "outputs": [],
   "source": []
  }
 ],
 "metadata": {
  "kernelspec": {
   "display_name": "Python 3",
   "language": "python",
   "name": "python3"
  },
  "language_info": {
   "codemirror_mode": {
    "name": "ipython",
    "version": 3
   },
   "file_extension": ".py",
   "mimetype": "text/x-python",
   "name": "python",
   "nbconvert_exporter": "python",
   "pygments_lexer": "ipython3",
   "version": "3.9.13"
  },
  "orig_nbformat": 4
 },
 "nbformat": 4,
 "nbformat_minor": 2
}
