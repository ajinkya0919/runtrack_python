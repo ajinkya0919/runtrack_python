{
 "cells": [
  {
   "cell_type": "markdown",
   "metadata": {},
   "source": [
    "Create a \"Person\" class with the attributes \"name\", \"firstname\". Add a \"SePresenter()\"\n",
    "method that will display in the terminal the name and surname of the person. Also add a\n",
    "constructor taking as parameters to give initial values to the \"name\" and \"firstname\"\n",
    "attributes. Instantiate several people with the construction values of your choice and use\n",
    "the \"SePresenter()\" method to verify that everything is working correctly. Add an\n",
    "\"accessor\" and a \"mutator\" for each of the attributes."
   ]
  },
  {
   "cell_type": "code",
   "execution_count": 5,
   "metadata": {},
   "outputs": [],
   "source": [
    "class Person:\n",
    "    def __init__(self, name, firstname):\n",
    "        self.__name = name\n",
    "        self.firstname = firstname\n",
    "\n",
    "    @property\n",
    "    def name(self):\n",
    "        return self.__name\n",
    "\n",
    "    @name.setter\n",
    "    def name(self, val):\n",
    "        self.__name = val\n",
    "\n",
    "    @property\n",
    "    def firstname(self):\n",
    "        return self.__firstname\n",
    "    \n",
    "    @firstname.setter\n",
    "    def firstname(self, val):\n",
    "        self.__firstname = val\n",
    "\n",
    "    def SePresenter(self):\n",
    "        print(self.name, self.firstname)\n",
    "\n",
    "a = Person(\"tarageryan\", \"aegon\")\n",
    "b = Person(\"turner\", \"sophie\")"
   ]
  },
  {
   "cell_type": "code",
   "execution_count": 6,
   "metadata": {},
   "outputs": [
    {
     "name": "stdout",
     "output_type": "stream",
     "text": [
      "tarageryan aegon\n",
      "turner sophie\n"
     ]
    }
   ],
   "source": [
    "a.SePresenter()\n",
    "b.SePresenter()"
   ]
  },
  {
   "cell_type": "code",
   "execution_count": 80,
   "metadata": {},
   "outputs": [],
   "source": [
    "class Book:\n",
    "    def __init__(self, title,author):\n",
    "        self.title = title\n",
    "        self.author = author\n",
    "        print(self.title)\n",
    "\n",
    "class Author(Person):\n",
    "    def __init__(self, first, last):\n",
    "        super().__init__(first, last)\n",
    "        self.work = []\n",
    "\n",
    "    def listerWork(self):\n",
    "        for i in self.work:\n",
    "            print(i.title)\n",
    "    \n",
    "    def writeabook(self, bookname):\n",
    "        book = Book(bookname, self)\n",
    "        self.work.append(book)\n",
    "        #return self.bookname"
   ]
  },
  {
   "cell_type": "code",
   "execution_count": 85,
   "metadata": {},
   "outputs": [
    {
     "name": "stdout",
     "output_type": "stream",
     "text": [
      "HOD\n",
      "HOD\n"
     ]
    }
   ],
   "source": [
    "author = Author(\"text1\", \"text2\")\n",
    "author.writeabook(\"HOD\")\n",
    "author.listerWork()\n",
    "#print(addnew.title)"
   ]
  },
  {
   "cell_type": "code",
   "execution_count": null,
   "metadata": {},
   "outputs": [],
   "source": []
  }
 ],
 "metadata": {
  "kernelspec": {
   "display_name": "Python 3",
   "language": "python",
   "name": "python3"
  },
  "language_info": {
   "codemirror_mode": {
    "name": "ipython",
    "version": 3
   },
   "file_extension": ".py",
   "mimetype": "text/x-python",
   "name": "python",
   "nbconvert_exporter": "python",
   "pygments_lexer": "ipython3",
   "version": "3.9.13"
  },
  "orig_nbformat": 4
 },
 "nbformat": 4,
 "nbformat_minor": 2
}
