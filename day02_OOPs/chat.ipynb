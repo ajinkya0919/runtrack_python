{
 "cells": [
  {
   "cell_type": "code",
   "execution_count": 1,
   "metadata": {},
   "outputs": [
    {
     "name": "stdout",
     "output_type": "stream",
     "text": [
      "My name is John Doe\n",
      "My name is Alice Smith\n",
      "My name is Bob Johnson\n",
      "Updated name: Jane Johnson\n"
     ]
    }
   ],
   "source": [
    "class Person:\n",
    "    def __init__(self, name, firstname):\n",
    "        self._name = name\n",
    "        self._firstname = firstname\n",
    "\n",
    "    def SePresenter(self):\n",
    "        print(f\"My name is {self._firstname} {self._name}\")\n",
    "\n",
    "    def get_name(self):\n",
    "        return self._name\n",
    "\n",
    "    def set_name(self, name):\n",
    "        self._name = name\n",
    "\n",
    "    def get_firstname(self):\n",
    "        return self._firstname\n",
    "\n",
    "    def set_firstname(self, firstname):\n",
    "        self._firstname = firstname\n",
    "\n",
    "# Instantiate multiple Person objects\n",
    "person1 = Person(\"Doe\", \"John\")\n",
    "person2 = Person(\"Smith\", \"Alice\")\n",
    "person3 = Person(\"Johnson\", \"Bob\")\n",
    "\n",
    "# Call SePresenter() method to display information\n",
    "person1.SePresenter()\n",
    "person2.SePresenter()\n",
    "person3.SePresenter()\n",
    "\n",
    "# Use accessors and mutators to modify and retrieve attribute values\n",
    "person1.set_name(\"Johnson\")\n",
    "person1.set_firstname(\"Jane\")\n",
    "print(f\"Updated name: {person1.get_firstname()} {person1.get_name()}\")\n"
   ]
  },
  {
   "cell_type": "code",
   "execution_count": 2,
   "metadata": {},
   "outputs": [
    {
     "name": "stdout",
     "output_type": "stream",
     "text": [
      "Books by John Doe:\n",
      "Book Title: Book 1\n",
      "None\n",
      "Book Title: Book 2\n",
      "None\n",
      "Books by Alice Smith:\n",
      "Book Title: Book A\n",
      "None\n",
      "Book Title: Book B\n",
      "None\n"
     ]
    }
   ],
   "source": [
    "class Person:\n",
    "    def __init__(self, first_name, last_name):\n",
    "        self._first_name = first_name\n",
    "        self._last_name = last_name\n",
    "\n",
    "    def SePresenter(self):\n",
    "        print(f\"My name is {self._first_name} {self._last_name}\")\n",
    "\n",
    "\n",
    "class Book:\n",
    "    def __init__(self, title, author):\n",
    "        self._title = title\n",
    "        self._author = author\n",
    "\n",
    "    def print_title(self):\n",
    "        print(f\"Book Title: {self._title}\")\n",
    "\n",
    "\n",
    "class Author(Person):\n",
    "    def __init__(self, first_name, last_name):\n",
    "        super().__init__(first_name, last_name)\n",
    "        self._works = []\n",
    "\n",
    "    def listerWork(self):\n",
    "        print(f\"Books by {self._first_name} {self._last_name}:\")\n",
    "        for book in self._works:\n",
    "            print(book.print_title())\n",
    "\n",
    "    def writeABook(self, book_title):\n",
    "        new_book = Book(book_title, self)\n",
    "        self._works.append(new_book)\n",
    "\n",
    "\n",
    "# Create an Author and add books to their work\n",
    "author1 = Author(\"John\", \"Doe\")\n",
    "author1.writeABook(\"Book 1\")\n",
    "author1.writeABook(\"Book 2\")\n",
    "\n",
    "# List the books by the author\n",
    "author1.listerWork()\n",
    "\n",
    "# Create another Author and add books to their work\n",
    "author2 = Author(\"Alice\", \"Smith\")\n",
    "author2.writeABook(\"Book A\")\n",
    "author2.writeABook(\"Book B\")\n",
    "\n",
    "# List the books by the second author\n",
    "author2.listerWork()\n"
   ]
  },
  {
   "cell_type": "code",
   "execution_count": null,
   "metadata": {},
   "outputs": [],
   "source": []
  }
 ],
 "metadata": {
  "kernelspec": {
   "display_name": "Python 3",
   "language": "python",
   "name": "python3"
  },
  "language_info": {
   "codemirror_mode": {
    "name": "ipython",
    "version": 3
   },
   "file_extension": ".py",
   "mimetype": "text/x-python",
   "name": "python",
   "nbconvert_exporter": "python",
   "pygments_lexer": "ipython3",
   "version": "3.9.13"
  },
  "orig_nbformat": 4
 },
 "nbformat": 4,
 "nbformat_minor": 2
}
