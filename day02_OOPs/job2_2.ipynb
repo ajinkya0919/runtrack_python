{
 "cells": [
  {
   "cell_type": "markdown",
   "metadata": {},
   "source": [
    "Create a \"Customer\" class inheriting from \"Person\", taking as a parameter a name and a\n",
    "first name.\n",
    "Create a \"Library\" class with a name and a catalog as attributes: a collection of books\n",
    "where each book is associated with a quantity (represented by an integer). Add the\n",
    "following methods:\n",
    "- buyBook: Taking as a parameter an author object, the name of a book and an\n",
    "integer representing a quantity. If the book does exist in the author's work, add this\n",
    "book to the library catalog with the corresponding quantity.\n",
    "- inventory: A method that displays in the terminal the titles of the books present in\n",
    "the catalog as well as their quantity.\n",
    "- rent: This method receives as parameters an instance of object \"Client\" as well\n",
    "as the name of a book. If the book exists and is in stock, add that book to the\n",
    "customer's book collection and keep the quantity of that book in the library up to\n",
    "date.\n",
    "- renderBooks: A method that takes a \"Client\" as a parameter and retrieves all the\n",
    "books of the latter and adds them to the library catalog.\n",
    "Add to the \"Client\" class a collection attribute that is a collection of books and add the\n",
    "inventory method that displays in the terminal the titles of the books in the possession\n",
    "of the client.\n",
    "Then, instantiate authors, have them write books, create libraries, have them buy books,\n",
    "create customers, have them rent books and then use display features and show the\n",
    "result to your examiner."
   ]
  },
  {
   "cell_type": "code",
   "execution_count": 3,
   "metadata": {},
   "outputs": [],
   "source": [
    "class Person:\n",
    "    def __init__(self, name, firstname):\n",
    "        self.__name = name\n",
    "        self.firstname = firstname\n",
    "\n",
    "    @property\n",
    "    def name(self):\n",
    "        return self.__name\n",
    "\n",
    "    @name.setter\n",
    "    def name(self, val):\n",
    "        self.__name = val\n",
    "\n",
    "    @property\n",
    "    def firstname(self):\n",
    "        return self.__firstname\n",
    "    \n",
    "    @firstname.setter\n",
    "    def firstname(self, val):\n",
    "        self.__firstname = val\n",
    "\n",
    "    def SePresenter(self):\n",
    "        print(self.name, self.firstname)\n",
    "\n",
    "a = Person(\"tarageryan\", \"aegon\")\n",
    "b = Person(\"turner\", \"sophie\")"
   ]
  },
  {
   "cell_type": "code",
   "execution_count": 4,
   "metadata": {},
   "outputs": [
    {
     "name": "stdout",
     "output_type": "stream",
     "text": [
      "HOD\n",
      "HOD\n"
     ]
    }
   ],
   "source": [
    "class Book:\n",
    "    def __init__(self, title,author):\n",
    "        self.title = title\n",
    "        self.author = author\n",
    "        print(self.title)\n",
    "\n",
    "class Author(Person):\n",
    "    def __init__(self, first, last):\n",
    "        super().__init__(first, last)\n",
    "        self.work = []\n",
    "\n",
    "    def listerWork(self):\n",
    "        for i in self.work:\n",
    "            print(i.title)\n",
    "    \n",
    "    def writeabook(self, bookname):\n",
    "        book = Book(bookname, self)\n",
    "        self.work.append(book)\n",
    "        #return self.bookname\n",
    "\n",
    "author = Author(\"text1\", \"text2\")\n",
    "author.writeabook(\"HOD\")\n",
    "author.listerWork()"
   ]
  },
  {
   "cell_type": "code",
   "execution_count": null,
   "metadata": {},
   "outputs": [],
   "source": [
    "class Customer:\n",
    "    def __init__(self, first, last):\n",
    "        super().__init(first, last)\n",
    "\n",
    "class Library:\n",
    "    def __init__(self, name, catalog):\n",
    "        self.name = name\n",
    "        self.catalog = {}\n",
    "\n",
    "    def buyBook(self, author, bookname, quant):\n",
    "        if(bookname in author.work):\n",
    "            \n",
    "        "
   ]
  }
 ],
 "metadata": {
  "kernelspec": {
   "display_name": "Python 3",
   "language": "python",
   "name": "python3"
  },
  "language_info": {
   "codemirror_mode": {
    "name": "ipython",
    "version": 3
   },
   "file_extension": ".py",
   "mimetype": "text/x-python",
   "name": "python",
   "nbconvert_exporter": "python",
   "pygments_lexer": "ipython3",
   "version": "3.9.13"
  },
  "orig_nbformat": 4
 },
 "nbformat": 4,
 "nbformat_minor": 2
}
