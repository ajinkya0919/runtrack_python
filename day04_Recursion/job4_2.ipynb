{
 "cells": [
  {
   "cell_type": "code",
   "execution_count": 10,
   "metadata": {},
   "outputs": [
    {
     "name": "stdout",
     "output_type": "stream",
     "text": [
      "One possible solution for 10 queens problem is: \n",
      "\n",
      " X   O   O   O   O   O   O   O   O   O \n",
      " O   O   O   O   O   O   O   X   O   O \n",
      " O   X   O   O   O   O   O   O   O   O \n",
      " O   O   O   O   O   O   O   O   X   O \n",
      " O   O   O   O   O   X   O   O   O   O \n",
      " O   O   X   O   O   O   O   O   O   O \n",
      " O   O   O   O   O   O   O   O   O   X \n",
      " O   O   O   X   O   O   O   O   O   O \n",
      " O   O   O   O   O   O   X   O   O   O \n",
      " O   O   O   O   X   O   O   O   O   O \n"
     ]
    }
   ],
   "source": [
    "def is_safe(board, row, col, N):\n",
    "    \n",
    "    # Check the row on the left side\n",
    "    for i in range(col):\n",
    "        if board[row][i] == 1:\n",
    "            return False\n",
    "    \n",
    "    # Check upper diagonal on the left side\n",
    "    for i, j in zip(range(row, -1, -1), range(col, -1, -1)):\n",
    "        if board[i][j] == 1:\n",
    "            return False\n",
    "    \n",
    "    # Check lower diagonal on the left side\n",
    "    for i, j in zip(range(row, N, 1), range(col, -1, -1)):\n",
    "        if board[i][j] == 1:\n",
    "            return False\n",
    "    \n",
    "    return True\n",
    "\n",
    "def solve_n_queens_util(board, col, N):\n",
    "    # Base case: If all queens are placed, return True\n",
    "    if col >= N:\n",
    "        return True\n",
    "    \n",
    "    # Try placing this queen in all rows of the current column\n",
    "    for i in range(N):\n",
    "        if is_safe(board, i, col, N):\n",
    "            board[i][col] = 1\n",
    "            \n",
    "            # Recur to place the rest of the queens\n",
    "            if solve_n_queens_util(board, col + 1, N):\n",
    "                return True\n",
    "            \n",
    "            board[i][col] = 0\n",
    "    \n",
    "    return False\n",
    "\n",
    "def solve_n_queens(N):\n",
    "    # An empty chessboard\n",
    "    board = [[0 for _ in range(N)] for _ in range(N)]\n",
    "\n",
    "    # Print the solution\n",
    "    print_solution(board)\n",
    "\n",
    "def print_solution(board):\n",
    "    for row in board:\n",
    "        print(\" \".join([\" X \" if cell == 1 else \" O \" for cell in row]))\n",
    "\n",
    "\n",
    "n = int(input())\n",
    "print(f\"One possible solution for {n} queens problem is: \\n\")\n",
    "solve_n_queens(n)\n"
   ]
  }
 ],
 "metadata": {
  "kernelspec": {
   "display_name": "Python 3",
   "language": "python",
   "name": "python3"
  },
  "language_info": {
   "codemirror_mode": {
    "name": "ipython",
    "version": 3
   },
   "file_extension": ".py",
   "mimetype": "text/x-python",
   "name": "python",
   "nbconvert_exporter": "python",
   "pygments_lexer": "ipython3",
   "version": "3.9.13"
  },
  "orig_nbformat": 4
 },
 "nbformat": 4,
 "nbformat_minor": 2
}
