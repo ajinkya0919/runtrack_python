{
 "cells": [
  {
   "cell_type": "code",
   "execution_count": 2,
   "metadata": {},
   "outputs": [
    {
     "name": "stdout",
     "output_type": "stream",
     "text": [
      "0\n"
     ]
    }
   ],
   "source": [
    "def check(string1, string2):\n",
    "    def match(s1, s2):\n",
    "        \n",
    "        if not s2:\n",
    "            return not s1\n",
    "        \n",
    "        if s2[0] == '*':\n",
    "            # Try all possibilities for the '*' in string2\n",
    "            for i in range(len(s1) + 1):\n",
    "                if match(s1[i:], s2[1:]):\n",
    "                    return True\n",
    "        \n",
    "        elif s1 and s1[0] == s2[0]:\n",
    "            return match(s1[1:], s2[1:])\n",
    "        \n",
    "        return False\n",
    "\n",
    "    return 1 if match(string1, string2) else 0\n",
    "\n",
    "string1 = input(\"Enter the first string: \").strip()\n",
    "string2 = input(\"Enter the second string: \").strip()\n",
    "\n",
    "result = check(string1, string2)\n",
    "print(result)\n"
   ]
  }
 ],
 "metadata": {
  "kernelspec": {
   "display_name": "Python 3",
   "language": "python",
   "name": "python3"
  },
  "language_info": {
   "codemirror_mode": {
    "name": "ipython",
    "version": 3
   },
   "file_extension": ".py",
   "mimetype": "text/x-python",
   "name": "python",
   "nbconvert_exporter": "python",
   "pygments_lexer": "ipython3",
   "version": "3.9.13"
  },
  "orig_nbformat": 4
 },
 "nbformat": 4,
 "nbformat_minor": 2
}
