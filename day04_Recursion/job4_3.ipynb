{
 "cells": [
  {
   "cell_type": "code",
   "execution_count": 1,
   "metadata": {},
   "outputs": [
    {
     "ename": "FileNotFoundError",
     "evalue": "[Errno 2] No such file or directory: 'Job43/maze.mz.txt'",
     "output_type": "error",
     "traceback": [
      "\u001b[1;31m---------------------------------------------------------------------------\u001b[0m",
      "\u001b[1;31mFileNotFoundError\u001b[0m                         Traceback (most recent call last)",
      "\u001b[1;32mc:\\Users\\Dell\\Desktop\\Centrale Med\\Runtracks\\day04_Recursion\\job4_3.ipynb Cell 1\u001b[0m line \u001b[0;36m2\n\u001b[0;32m      <a href='vscode-notebook-cell:/c%3A/Users/Dell/Desktop/Centrale%20Med/Runtracks/day04_Recursion/job4_3.ipynb#W0sZmlsZQ%3D%3D?line=0'>1</a>\u001b[0m \u001b[39m#read the maze file\u001b[39;00m\n\u001b[1;32m----> <a href='vscode-notebook-cell:/c%3A/Users/Dell/Desktop/Centrale%20Med/Runtracks/day04_Recursion/job4_3.ipynb#W0sZmlsZQ%3D%3D?line=1'>2</a>\u001b[0m file\u001b[39m=\u001b[39m\u001b[39mopen\u001b[39;49m(\u001b[39m\"\u001b[39;49m\u001b[39mJob43/maze.mz.txt\u001b[39;49m\u001b[39m\"\u001b[39;49m,\u001b[39m\"\u001b[39;49m\u001b[39mr\u001b[39;49m\u001b[39m\"\u001b[39;49m)\n\u001b[0;32m      <a href='vscode-notebook-cell:/c%3A/Users/Dell/Desktop/Centrale%20Med/Runtracks/day04_Recursion/job4_3.ipynb#W0sZmlsZQ%3D%3D?line=2'>3</a>\u001b[0m maze\u001b[39m=\u001b[39mfile\u001b[39m.\u001b[39mreadlines()\n\u001b[0;32m      <a href='vscode-notebook-cell:/c%3A/Users/Dell/Desktop/Centrale%20Med/Runtracks/day04_Recursion/job4_3.ipynb#W0sZmlsZQ%3D%3D?line=3'>4</a>\u001b[0m file\u001b[39m.\u001b[39mclose()\n",
      "File \u001b[1;32m~\\AppData\\Local\\Packages\\PythonSoftwareFoundation.Python.3.9_qbz5n2kfra8p0\\LocalCache\\local-packages\\Python39\\site-packages\\IPython\\core\\interactiveshell.py:282\u001b[0m, in \u001b[0;36m_modified_open\u001b[1;34m(file, *args, **kwargs)\u001b[0m\n\u001b[0;32m    275\u001b[0m \u001b[39mif\u001b[39;00m file \u001b[39min\u001b[39;00m {\u001b[39m0\u001b[39m, \u001b[39m1\u001b[39m, \u001b[39m2\u001b[39m}:\n\u001b[0;32m    276\u001b[0m     \u001b[39mraise\u001b[39;00m \u001b[39mValueError\u001b[39;00m(\n\u001b[0;32m    277\u001b[0m         \u001b[39mf\u001b[39m\u001b[39m\"\u001b[39m\u001b[39mIPython won\u001b[39m\u001b[39m'\u001b[39m\u001b[39mt let you open fd=\u001b[39m\u001b[39m{\u001b[39;00mfile\u001b[39m}\u001b[39;00m\u001b[39m by default \u001b[39m\u001b[39m\"\u001b[39m\n\u001b[0;32m    278\u001b[0m         \u001b[39m\"\u001b[39m\u001b[39mas it is likely to crash IPython. If you know what you are doing, \u001b[39m\u001b[39m\"\u001b[39m\n\u001b[0;32m    279\u001b[0m         \u001b[39m\"\u001b[39m\u001b[39myou can use builtins\u001b[39m\u001b[39m'\u001b[39m\u001b[39m open.\u001b[39m\u001b[39m\"\u001b[39m\n\u001b[0;32m    280\u001b[0m     )\n\u001b[1;32m--> 282\u001b[0m \u001b[39mreturn\u001b[39;00m io_open(file, \u001b[39m*\u001b[39margs, \u001b[39m*\u001b[39m\u001b[39m*\u001b[39mkwargs)\n",
      "\u001b[1;31mFileNotFoundError\u001b[0m: [Errno 2] No such file or directory: 'Job43/maze.mz.txt'"
     ]
    }
   ],
   "source": [
    "#read the maze file\n",
    "file=open(\"Job43/maze.mz.txt\",\"r\")\n",
    "maze=file.readlines()\n",
    "file.close()\n",
    "\n",
    "#making the maze a list of lists\n",
    "maze_list=[]\n",
    "for line in maze:\n",
    "    maze_list.append(list(line.strip()))\n",
    "\n",
    "#values of the start and end positions\n",
    "start_position=[0,0]\n",
    "end_position=[len(maze_list)-1,len(maze_list[0])-1]\n",
    "print(\"start position:\",start_position)\n",
    "print(\"end position:\",end_position)\n",
    "\n",
    "#directions:right,left,up,down\n",
    "directions=[(0,1),(0,-1),(1,0),(-1,0)]\n",
    "#find the path using a recursive function\n",
    "def find_path(maze_list,start_pos,end_pos):\n",
    "    if start_pos==end_pos:\n",
    "        return True\n",
    "    else:\n",
    "        for direction in directions:\n",
    "            new_pos=[start_pos[0]+direction[0],start_pos[1]+direction[1]]\n",
    "\n",
    "            if 0<=new_pos[0]<len(maze_list) and 0<=new_pos[1]<len(maze_list[0]) and maze_list[new_pos[0]][new_pos[1]]==\".\":\n",
    "                maze_list[new_pos[0]][new_pos[1]]=\"X\"\n",
    "                if find_path(maze_list,new_pos,end_pos):\n",
    "                    return True\n",
    "        if maze_list[0][0]==\"V\":\n",
    "            maze_list[0][0]=\"X\"\n",
    "        maze_list[start_pos[0]][start_pos[1]]=\"V\"\n",
    "        return False\n",
    "\n",
    "#call the function\n",
    "if find_path(maze_list,start_position,end_position):\n",
    "    print(\"path found!\")\n",
    "else:\n",
    "    print(\"no path found!\")\n",
    "\n",
    "#replace \"V\" with \".\"\n",
    "for row in maze_list:\n",
    "    for i in range(len(row)):\n",
    "        if row[i]==\"V\":\n",
    "            row[i]=\".\"\n",
    "            \n",
    "#write the path to a new file\n",
    "file=open(\"maze-out.mz.txt\",\"w\")\n",
    "for row in maze_list:\n",
    "    file.write(\"\".join(row)+\"\\n\") #add newline character\n",
    "file.close()\n"
   ]
  },
  {
   "cell_type": "code",
   "execution_count": null,
   "metadata": {},
   "outputs": [],
   "source": []
  }
 ],
 "metadata": {
  "kernelspec": {
   "display_name": "Python 3",
   "language": "python",
   "name": "python3"
  },
  "language_info": {
   "codemirror_mode": {
    "name": "ipython",
    "version": 3
   },
   "file_extension": ".py",
   "mimetype": "text/x-python",
   "name": "python",
   "nbconvert_exporter": "python",
   "pygments_lexer": "ipython3",
   "version": "3.9.13"
  },
  "orig_nbformat": 4
 },
 "nbformat": 4,
 "nbformat_minor": 2
}
