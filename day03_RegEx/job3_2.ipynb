{
 "cells": [
  {
   "cell_type": "code",
   "execution_count": 7,
   "metadata": {},
   "outputs": [
    {
     "name": "stdout",
     "output_type": "stream",
     "text": [
      "310\n"
     ]
    }
   ],
   "source": [
    "import re\n",
    "\n",
    "xml = open(\"domains.xml\", \"r+\")\n",
    "f = xml.readlines()\n",
    "\n",
    "doms = []\n",
    "for line in f:\n",
    "    if \"domain\" in line:\n",
    "        res = re.findall(r\"(?<=\\w)\\.([a-z]+)(?=\\<)\", line)\n",
    "        \n",
    "        if res not in doms:\n",
    "            doms.append(res)\n",
    "\n",
    "# doms = [dom for item in doms]\n",
    "print(len(doms))\n",
    "\n",
    "# Remove the comments below to see all the unique domains\n",
    "#for dom in doms:\n",
    " #   print(dom)"
   ]
  },
  {
   "cell_type": "code",
   "execution_count": null,
   "metadata": {},
   "outputs": [],
   "source": []
  }
 ],
 "metadata": {
  "kernelspec": {
   "display_name": "Python 3",
   "language": "python",
   "name": "python3"
  },
  "language_info": {
   "codemirror_mode": {
    "name": "ipython",
    "version": 3
   },
   "file_extension": ".py",
   "mimetype": "text/x-python",
   "name": "python",
   "nbconvert_exporter": "python",
   "pygments_lexer": "ipython3",
   "version": "3.9.13"
  },
  "orig_nbformat": 4
 },
 "nbformat": 4,
 "nbformat_minor": 2
}
