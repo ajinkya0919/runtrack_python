{
 "cells": [
  {
   "cell_type": "code",
   "execution_count": 4,
   "metadata": {},
   "outputs": [
    {
     "name": "stdout",
     "output_type": "stream",
     "text": [
      "Listenening to Macklemore music\n",
      "\n",
      "Next up would be Thrift Shop fs\n",
      "\n",
      "How about Ryan Lewis?\n",
      "\n",
      "Lets make a playlist\n",
      "\n",
      "Add a few songs\n"
     ]
    }
   ],
   "source": [
    "def main():\n",
    "\n",
    "    f = open(\"output.txt\", \"r+\")\n",
    "    \n",
    "    f2 = f.readlines()\n",
    "    for line in f2:\n",
    "        print(line)\n",
    "\n",
    "    f.close()\n",
    "\n",
    "if __name__ == \"__main__\":\n",
    "    main()\n"
   ]
  }
 ],
 "metadata": {
  "kernelspec": {
   "display_name": "Python 3",
   "language": "python",
   "name": "python3"
  },
  "language_info": {
   "codemirror_mode": {
    "name": "ipython",
    "version": 3
   },
   "file_extension": ".py",
   "mimetype": "text/x-python",
   "name": "python",
   "nbconvert_exporter": "python",
   "pygments_lexer": "ipython3",
   "version": "3.9.13"
  },
  "orig_nbformat": 4
 },
 "nbformat": 4,
 "nbformat_minor": 2
}
