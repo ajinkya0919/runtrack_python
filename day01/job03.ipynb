{
 "cells": [
  {
   "cell_type": "code",
   "execution_count": null,
   "metadata": {},
   "outputs": [],
   "source": [
    "def drawtriangle(n):\n",
    "    for i in range(0, n):\n",
    "        print(' '*(n-i+1) + '/' + ' '*(i*2) + '\\\\')\n",
    "\n",
    "        if (i == n-1):\n",
    "            print(' '*(n-i) + '/' + '_'*(i*2+2) + '\\\\')"
   ]
  },
  {
   "cell_type": "code",
   "execution_count": null,
   "metadata": {},
   "outputs": [],
   "source": [
    "drawtriangle(5)"
   ]
  }
 ],
 "metadata": {
  "language_info": {
   "name": "python"
  },
  "orig_nbformat": 4
 },
 "nbformat": 4,
 "nbformat_minor": 2
}
