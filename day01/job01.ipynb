{
 "cells": [
  {
   "cell_type": "code",
   "execution_count": null,
   "metadata": {},
   "outputs": [],
   "source": [
    "for i in range(1,101):\n",
    "    if (i % 3 == 0 and i % 5 == 0):\n",
    "        print(\"FizzBuzz\")\n",
    "        continue\n",
    "    elif (i % 3 == 0):\n",
    "        print(\"Fizz\")\n",
    "    elif (i % 5 == 0):\n",
    "        print(\"Buzz\")"
   ]
  }
 ],
 "metadata": {
  "language_info": {
   "name": "python"
  },
  "orig_nbformat": 4
 },
 "nbformat": 4,
 "nbformat_minor": 2
}
