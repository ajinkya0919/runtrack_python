{
 "cells": [
  {
   "cell_type": "code",
   "execution_count": 1,
   "metadata": {},
   "outputs": [],
   "source": [
    "def nexword(word):\n",
    "    n = len(word)-1\n",
    "    w = list(word)\n",
    "\n",
    "    for i in range(0, n):\n",
    "        if(w[n-i] > w[n-i-1]):\n",
    "            w[n-i], w[n-i-1] = w[n-i-1], w[n-i]\n",
    "            break\n",
    "    \n",
    "    nex = ''.join(w)\n",
    "    return nex"
   ]
  },
  {
   "cell_type": "code",
   "execution_count": 2,
   "metadata": {},
   "outputs": [
    {
     "name": "stdout",
     "output_type": "stream",
     "text": [
      "abced\n"
     ]
    }
   ],
   "source": [
    "print(nexword('abcde'))"
   ]
  }
 ],
 "metadata": {
  "kernelspec": {
   "display_name": "Python 3",
   "language": "python",
   "name": "python3"
  },
  "language_info": {
   "codemirror_mode": {
    "name": "ipython",
    "version": 3
   },
   "file_extension": ".py",
   "mimetype": "text/x-python",
   "name": "python",
   "nbconvert_exporter": "python",
   "pygments_lexer": "ipython3",
   "version": "3.9.13"
  },
  "orig_nbformat": 4
 },
 "nbformat": 4,
 "nbformat_minor": 2
}
