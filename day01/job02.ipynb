{
 "cells": [
  {
   "cell_type": "code",
   "execution_count": null,
   "metadata": {},
   "outputs": [],
   "source": [
    "def drawrect(h,v):\n",
    "    for i in range(0, v):\n",
    "\n",
    "        if(i == 0 or i == v-1):\n",
    "            print('|' + '-'*(h-2) + '|')\n",
    "        else:\n",
    "            print('|' +' '*(h-2) + '|')"
   ]
  },
  {
   "cell_type": "code",
   "execution_count": null,
   "metadata": {},
   "outputs": [],
   "source": [
    "drawrect(10, 3)"
   ]
  }
 ],
 "metadata": {
  "language_info": {
   "name": "python"
  },
  "orig_nbformat": 4
 },
 "nbformat": 4,
 "nbformat_minor": 2
}
